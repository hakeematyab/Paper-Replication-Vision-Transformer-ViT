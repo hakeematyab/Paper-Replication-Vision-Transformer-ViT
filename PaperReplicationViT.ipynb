{
  "cells": [
    {
      "cell_type": "markdown",
      "source": [
        "### Background\n",
        "\n",
        "Paper - https://arxiv.org/pdf/2010.11929\n",
        "\n",
        "Architecture Details - ViT-Base\n",
        "\n",
        "- Layers: 12\n",
        "- Hidden size: 768\n",
        "- MLP size: 3072\n",
        "- Heads: 12\n",
        "- Params: 86M\n",
        "\n",
        "Training Details\n",
        "Train Dataset: JFT - 300 M\n",
        "- Optimizer:\n",
        "  - Adam:\n",
        "      - Beta1: 0.9\n",
        "      - Beta2: 0.999\n",
        "      - Weight decay: 0.1\n",
        "- LR Scheduler: Linear warmup and decay.\n",
        "- Batch size: 4096\n",
        "- Dropout\n",
        "\n",
        "Fine-tuning Details - Higher Resolution\n",
        "Fine-tune Dataset: CIFAR10\n",
        "- Optimizer:\n",
        "  - SGD + Momentum\n",
        "- Batch size: 512\n",
        "- Callbacks: Early stopping\n",
        "\n",
        "Results\n",
        "\n",
        "Accuracy: 99.5% CIFAR10\n",
        "\n",
        "- Outperform CNNs with less compute.\n",
        "- Hybrids (CNN inputs + Transformer) work well for smaller ViT variants but not for larger ones."
      ],
      "metadata": {
        "id": "Kv_ZSW8zdc1i"
      },
      "id": "Kv_ZSW8zdc1i"
    },
    {
      "cell_type": "markdown",
      "id": "c34a5320",
      "metadata": {
        "id": "c34a5320"
      },
      "source": [
        "### Setup"
      ]
    },
    {
      "cell_type": "code",
      "execution_count": null,
      "id": "f7PCioMJW7In",
      "metadata": {
        "id": "f7PCioMJW7In"
      },
      "outputs": [],
      "source": [
        "# !pip install portalocker==2.6.0\n",
        "# !pip install torch==2.1.0 torchtext==0.16.0 torchvision==0.16.0 numpy==1.26.4"
      ]
    },
    {
      "cell_type": "code",
      "source": [
        "%%capture\n",
        "!pip install mlflow\n",
        "!pip install pyngrok"
      ],
      "metadata": {
        "id": "nvWIdihF-piM"
      },
      "execution_count": 1,
      "outputs": [],
      "id": "nvWIdihF-piM"
    },
    {
      "cell_type": "code",
      "source": [
        "import math\n",
        "\n",
        "import torch\n",
        "import torch.nn as nn\n",
        "import torch.nn.functional as F"
      ],
      "metadata": {
        "id": "AIUfvdXtNexg"
      },
      "id": "AIUfvdXtNexg",
      "execution_count": null,
      "outputs": []
    },
    {
      "cell_type": "code",
      "execution_count": 2,
      "metadata": {
        "id": "Wzvgjkqu-KTg"
      },
      "outputs": [],
      "source": [
        "import mlflow\n",
        "import subprocess\n",
        "from pyngrok import ngrok, conf\n",
        "import getpass"
      ],
      "id": "Wzvgjkqu-KTg"
    },
    {
      "cell_type": "code",
      "source": [
        "MLFLOW_TRACKING_URI = \"sqlite:///mlflow.db\"\n",
        "subprocess.Popen([\"mlflow\", \"ui\", \"--backend-store-uri\", MLFLOW_TRACKING_URI])"
      ],
      "metadata": {
        "id": "7wdiGmnKCx1y"
      },
      "execution_count": null,
      "outputs": [],
      "id": "7wdiGmnKCx1y"
    },
    {
      "cell_type": "code",
      "source": [
        "mlflow.set_tracking_uri(MLFLOW_TRACKING_URI)\n",
        "# mlflow will create an experiment if it doesn't exist\n",
        "mlflow.set_experiment(\"Paper-Replication-ViT\")"
      ],
      "metadata": {
        "id": "_YaZTNG1-gZb"
      },
      "execution_count": null,
      "outputs": [],
      "id": "_YaZTNG1-gZb"
    },
    {
      "cell_type": "code",
      "source": [
        "print(\"Enter your authtoken, which can be copied from https://dashboard.ngrok.com/auth\")\n",
        "conf.get_default().auth_token = getpass.getpass()\n",
        "port=5000\n",
        "public_url = ngrok.connect(port).public_url\n",
        "print(f' * ngrok tunnel \\\"{public_url}\\\" -> \\\"http://127.0.0.1:{port}\\\"')"
      ],
      "metadata": {
        "id": "nsBFQrEZDug7"
      },
      "execution_count": null,
      "outputs": [],
      "id": "nsBFQrEZDug7"
    },
    {
      "cell_type": "markdown",
      "id": "jJnV3leYuBaV",
      "metadata": {
        "id": "jJnV3leYuBaV"
      },
      "source": [
        "### Data"
      ]
    },
    {
      "cell_type": "code",
      "execution_count": null,
      "id": "DnjiPjyrX7NZ",
      "metadata": {
        "id": "DnjiPjyrX7NZ"
      },
      "outputs": [],
      "source": [
        "import time\n",
        "import numpy as np\n",
        "import matplotlib.pyplot as plt\n",
        "\n",
        "%matplotlib inline\n",
        "plt.rcParams['figure.figsize'] = (10.0, 8.0)\n",
        "plt.rcParams['image.interpolation'] = 'nearest'\n",
        "plt.rcParams['image.cmap'] = 'gray'\n",
        "\n",
        "%load_ext autoreload\n",
        "%autoreload 2"
      ]
    },
    {
      "cell_type": "code",
      "execution_count": null,
      "id": "6mdfI_ypX7Na",
      "metadata": {
        "id": "6mdfI_ypX7Na"
      },
      "outputs": [],
      "source": [
        "# 1 -- Linux\n",
        "# 2 -- MacOS\n",
        "# 3 -- Command Prompt on Windows\n",
        "# 4 -- manually downloading the data\n",
        "choice = 1\n",
        "\n",
        "\n",
        "if choice == 1:\n",
        "    !wget http://www.cs.toronto.edu/~kriz/cifar-10-python.tar.gz\n",
        "elif choice == 2 or choice ==3:\n",
        "    !curl http://www.cs.toronto.edu/~kriz/cifar-10-python.tar.gz --output cifar-10-python.tar.gz\n",
        "else:\n",
        "    print('Please manually download the data from http://www.cs.toronto.edu/~kriz/cifar-10-python.tar.gz and put it under the datasets folder.')\n",
        "!tar -xzvf cifar-10-python.tar.gz\n",
        "\n",
        "if choice==3:\n",
        "    !del cifar-10-python.tar.gz\n",
        "else:\n",
        "    !rm cifar-10-python.tar.gz"
      ]
    },
    {
      "cell_type": "code",
      "execution_count": null,
      "id": "XnslsToKX7Na",
      "metadata": {
        "id": "XnslsToKX7Na"
      },
      "outputs": [],
      "source": [
        "from six.moves import cPickle as pickle\n",
        "import numpy as np\n",
        "import os\n",
        "from imageio import imread\n",
        "import platform\n",
        "\n",
        "def load_pickle(f):\n",
        "    version = platform.python_version_tuple()\n",
        "    if version[0] == '2':\n",
        "        return  pickle.load(f)\n",
        "    elif version[0] == '3':\n",
        "        return  pickle.load(f, encoding='latin1')\n",
        "    raise ValueError(\"invalid python version: {}\".format(version))\n",
        "\n",
        "def load_CIFAR_batch(filename):\n",
        "  \"\"\" load single batch of cifar \"\"\"\n",
        "  with open(filename, 'rb') as f:\n",
        "    datadict = load_pickle(f)\n",
        "    X = datadict['data']\n",
        "    Y = datadict['labels']\n",
        "    X = X.reshape(10000, 3, 32, 32).transpose(0,2,3,1).astype(\"float\")\n",
        "    Y = np.array(Y)\n",
        "    return X, Y\n",
        "\n",
        "def load_CIFAR10(ROOT):\n",
        "  \"\"\" load all of cifar \"\"\"\n",
        "  xs = []\n",
        "  ys = []\n",
        "  for b in range(1,6):\n",
        "    f = os.path.join(ROOT, 'data_batch_%d' % (b, ))\n",
        "    X, Y = load_CIFAR_batch(f)\n",
        "    xs.append(X)\n",
        "    ys.append(Y)\n",
        "  Xtr = np.concatenate(xs)\n",
        "  Ytr = np.concatenate(ys)\n",
        "  del X, Y\n",
        "  Xte, Yte = load_CIFAR_batch(os.path.join(ROOT, 'test_batch'))\n",
        "  return Xtr, Ytr, Xte, Yte\n",
        "\n",
        "\n",
        "def get_CIFAR10_data(cifar10_dir, num_training=49000, num_validation=1000, num_test=1000,\n",
        "                     subtract_mean=True):\n",
        "    \"\"\"\n",
        "    Load the CIFAR-10 dataset from disk and perform preprocessing to prepare\n",
        "    it for classifiers. These are the same steps as we used for the SVM, but\n",
        "    condensed to a single function.\n",
        "    \"\"\"\n",
        "    X_train, y_train, X_test, y_test = load_CIFAR10(cifar10_dir)\n",
        "\n",
        "    mask = list(range(num_training, num_training + num_validation))\n",
        "    X_val = X_train[mask]\n",
        "    y_val = y_train[mask]\n",
        "    mask = list(range(num_training))\n",
        "    X_train = X_train[mask]\n",
        "    y_train = y_train[mask]\n",
        "    mask = list(range(num_test))\n",
        "    X_test = X_test[mask]\n",
        "    y_test = y_test[mask]\n",
        "\n",
        "    if subtract_mean:\n",
        "      mean_image = np.mean(X_train, axis=0)\n",
        "      X_train -= mean_image\n",
        "      X_val -= mean_image\n",
        "      X_test -= mean_image\n",
        "\n",
        "    X_train = X_train.transpose(0, 3, 1, 2).copy()\n",
        "    X_val = X_val.transpose(0, 3, 1, 2).copy()\n",
        "    X_test = X_test.transpose(0, 3, 1, 2).copy()\n",
        "\n",
        "    return {\n",
        "      'X_train': X_train, 'y_train': y_train,\n",
        "      'X_val': X_val, 'y_val': y_val,\n",
        "      'X_test': X_test, 'y_test': y_test,\n",
        "    }"
      ]
    },
    {
      "cell_type": "code",
      "execution_count": null,
      "id": "iw9bYKMefeRK",
      "metadata": {
        "id": "iw9bYKMefeRK"
      },
      "outputs": [],
      "source": [
        "cifar10_dir = './cifar-10-batches-py'\n",
        "\n",
        "data = get_CIFAR10_data(cifar10_dir, subtract_mean=True)\n",
        "\n",
        "pix_mean = (0.485, 0.456, 0.406)\n",
        "pix_std = (0.229, 0.224, 0.225)\n",
        "\n",
        "for c in range(3):\n",
        "    data['X_train'][:, c] = (data['X_train'][:, c] / 255 - pix_mean[c]) / pix_std[c]\n",
        "    data['X_val'][:, c] = (data['X_val'][:, c] / 255 - pix_mean[c]) / pix_std[c]\n",
        "    data['X_test'][:, c] = (data['X_test'][:, c] / 255 - pix_mean[c]) / pix_std[c]\n",
        "\n",
        "for split in ['train', 'val', 'test']:\n",
        "    print('===\\nFor the split {}'.format(split))\n",
        "    print('shape: {}'.format(data['X_{}'.format(split)].shape))\n",
        "    print('data value range, min: {}, max: {}\\n'.format(data['X_{}'.format(split)].min(), data['X_{}'.format(split)].max()))"
      ]
    },
    {
      "cell_type": "markdown",
      "id": "OEDecQwvunDf",
      "metadata": {
        "id": "OEDecQwvunDf"
      },
      "source": [
        "### Model Architecture"
      ]
    },
    {
      "cell_type": "code",
      "execution_count": null,
      "id": "jb1_cmOApO9_",
      "metadata": {
        "id": "jb1_cmOApO9_"
      },
      "outputs": [],
      "source": [
        "class MultiHeadAttention(nn.Module):\n",
        "    \"\"\"\n",
        "    A module that computes multi-head attention given query, key, and value tensors.\n",
        "    \"\"\"\n",
        "    def __init__(self, input_dim: int, num_heads: int):\n",
        "        \"\"\"\n",
        "        Constructor.\n",
        "\n",
        "        Inputs:\n",
        "        - input_dim: Dimension of the input query, key, and value. Here we assume they all have\n",
        "          the same dimensions. But they could have different dimensions in other problems.\n",
        "        - num_heads: Number of attention heads\n",
        "        \"\"\"\n",
        "        super(MultiHeadAttention, self).__init__()\n",
        "\n",
        "        assert input_dim % num_heads == 0\n",
        "\n",
        "        self.input_dim = input_dim\n",
        "        self.num_heads = num_heads\n",
        "        self.dim_per_head = input_dim // num_heads\n",
        "\n",
        "        self.W_k = torch.nn.Linear(self.input_dim, self.input_dim)\n",
        "        self.W_q = torch.nn.Linear(self.input_dim, self.input_dim)\n",
        "        self.W_v = torch.nn.Linear(self.input_dim, self.input_dim)\n",
        "        self.W_o = torch.nn.Linear(self.input_dim, self.input_dim)\n",
        "\n",
        "\n",
        "\n",
        "    def forward(self, query: torch.Tensor, key: torch.Tensor, value: torch.Tensor, mask: torch.Tensor=None):\n",
        "        \"\"\"\n",
        "        Compute the attended feature representations.\n",
        "\n",
        "        Inputs:\n",
        "        - query: Tensor of the shape BxLxC, where B is the batch size, L is the sequence length,\n",
        "          and C is the channel dimension\n",
        "        - key: Tensor of the shape BxLxC\n",
        "        - value: Tensor of the shape BxLxC\n",
        "        - mask: Tensor indicating where the attention should *not* be performed\n",
        "        \"\"\"\n",
        "        b = query.shape[0]\n",
        "\n",
        "        dot_prod_scores = None\n",
        "        q = self.W_q(query)\n",
        "        q = q.reshape((q.shape[0], q.shape[1],self.dim_per_head, self.num_heads))\n",
        "        q = q.permute((0,3,1,2))\n",
        "        q = q.reshape((-1, q.shape[2], q.shape[3]))\n",
        "        k = self.W_k(key)\n",
        "        k = k.reshape((k.shape[0], k.shape[1],self.dim_per_head, self.num_heads))\n",
        "        k = k.permute((0,3,1,2))\n",
        "        k = k.reshape((-1, k.shape[2], k.shape[3]))\n",
        "        v = self.W_v(value)\n",
        "        v = v.reshape((v.shape[0], v.shape[1],self.dim_per_head, self.num_heads))\n",
        "        v = v.permute((0,3,1,2))\n",
        "        v = v.reshape((-1, v.shape[2], v.shape[3]))\n",
        "        dot_prod_scores = torch.matmul(q, k.permute(0,2,1))/math.sqrt(self.dim_per_head)\n",
        "        dot_prod_scores = dot_prod_scores.reshape((b, self.num_heads,dot_prod_scores.shape[1], dot_prod_scores.shape[2]))\n",
        "\n",
        "        if mask is not None:\n",
        "            dot_prod_scores = dot_prod_scores.masked_fill(mask == 0, -1e9)\n",
        "\n",
        "        out = None\n",
        "        dot_prod_scores = dot_prod_scores.reshape((-1,dot_prod_scores.shape[2], dot_prod_scores.shape[3]))\n",
        "        attention_scores = torch.nn.functional.softmax(dot_prod_scores, dim=-1)\n",
        "        out = torch.matmul(attention_scores, v)\n",
        "        out = out.reshape((b, self.num_heads,out.shape[1], out.shape[2]))\n",
        "        out = out.permute((0, 2, 1, 3))\n",
        "        out = out.reshape((out.shape[0],out.shape[1],-1))\n",
        "        out = self.W_o(out)\n",
        "        return out"
      ]
    },
    {
      "cell_type": "code",
      "execution_count": null,
      "metadata": {
        "id": "mpc_-55fv3d9"
      },
      "outputs": [],
      "source": [
        "class FeedForwardNetwork(nn.Module):\n",
        "    \"\"\"\n",
        "    A simple feedforward network. Essentially, it is a two-layer fully-connected\n",
        "    neural network.\n",
        "    \"\"\"\n",
        "    def __init__(self, input_dim, ff_dim, dropout):\n",
        "        \"\"\"\n",
        "        Inputs:\n",
        "        - input_dim: Input dimension\n",
        "        - ff_dim: Hidden dimension\n",
        "        \"\"\"\n",
        "        super(FeedForwardNetwork, self).__init__()\n",
        "        self.l1 = torch.nn.Linear(input_dim, ff_dim)\n",
        "        self.l2 = torch.nn.Linear(ff_dim, input_dim)\n",
        "        self.dropout = torch.nn.Dropout(dropout)\n",
        "        self.relu = torch.nn.GELU()\n",
        "\n",
        "    def forward(self, x: torch.Tensor):\n",
        "        \"\"\"\n",
        "        Input:\n",
        "        - x: Tensor of the shape BxLxC, where B is the batch size, L is the sequence length,\n",
        "         and C is the channel dimension\n",
        "\n",
        "        Return:\n",
        "        - y: Tensor of the shape BxLxC\n",
        "        \"\"\"\n",
        "\n",
        "        y = None\n",
        "        b, l, d = x.shape[0], x.shape[1], x.shape[2]\n",
        "        x = x.reshape((-1, d))\n",
        "        x = self.l1(x)\n",
        "        x = self.relu(x)\n",
        "        x = self.dropout(x)\n",
        "        x = self.l2(x)\n",
        "        x = x.reshape((b, l, d))\n",
        "        return x\n"
      ],
      "id": "mpc_-55fv3d9"
    },
    {
      "cell_type": "code",
      "execution_count": null,
      "id": "hvuiSRF4upLp",
      "metadata": {
        "id": "hvuiSRF4upLp"
      },
      "outputs": [],
      "source": [
        "class TransformerEncoderCell(nn.Module):\n",
        "    \"\"\"\n",
        "    A single cell (unit) for the Transformer encoder.\n",
        "    \"\"\"\n",
        "    def __init__(self, input_dim: int, num_heads: int, ff_dim: int, dropout: float):\n",
        "        \"\"\"\n",
        "        Inputs:\n",
        "        - input_dim: Input dimension for each token in a sequence\n",
        "        - num_heads: Number of attention heads in a multi-head attention module\n",
        "        - ff_dim: The hidden dimension for a feedforward network\n",
        "        - dropout: Dropout ratio for the output of the multi-head attention and feedforward\n",
        "          modules.\n",
        "        \"\"\"\n",
        "        super(TransformerEncoderCell, self).__init__()\n",
        "\n",
        "        self.mha = MultiHeadAttention(input_dim, num_heads)\n",
        "        self.dropout = torch.nn.Dropout(p=dropout)\n",
        "        self.layer_norm = torch.nn.LayerNorm(input_dim)\n",
        "        self.ffnn = FeedForwardNetwork(input_dim, ff_dim, dropout)\n",
        "\n",
        "    def forward(self, x: torch.Tensor, mask: torch.Tensor=None):\n",
        "        \"\"\"\n",
        "        Inputs:\n",
        "        - x: Tensor of the shape BxLxC, where B is the batch size, L is the sequence length,\n",
        "          and C is the channel dimension\n",
        "        - mask: Tensor for masking in the multi-head attention\n",
        "        \"\"\"\n",
        "\n",
        "        y = None\n",
        "        Xprev = x\n",
        "        Xout = self.layer_norm(Xprev)\n",
        "        Xout = self.mha(Xout, Xout, Xout, mask)\n",
        "        Xout = self.dropout(Xout)\n",
        "        Xout = Xout+Xprev\n",
        "\n",
        "        Xprev = Xout\n",
        "        Xout= self.layer_norm(Xprev)\n",
        "        Xout= self.ffnn(Xout)\n",
        "        Xout = self.dropout(Xout)\n",
        "        Xout = Xout+Xprev\n",
        "        return Xout"
      ]
    },
    {
      "cell_type": "code",
      "execution_count": null,
      "id": "lAi0uxv5upLp",
      "metadata": {
        "id": "lAi0uxv5upLp"
      },
      "outputs": [],
      "source": [
        "class TransformerEncoder(nn.Module):\n",
        "    \"\"\"\n",
        "    A full encoder consisting of a set of TransformerEncoderCell.\n",
        "    \"\"\"\n",
        "\n",
        "    def __init__(self, input_dim: int, num_heads: int, ff_dim: int, num_cells: int, dropout: float=0.1):\n",
        "        \"\"\"\n",
        "        Inputs:\n",
        "        - input_dim: Input dimension for each token in a sequence\n",
        "        - num_heads: Number of attention heads in a multi-head attention module\n",
        "        - ff_dim: The hidden dimension for a feedforward network\n",
        "        - num_cells: Number of TransformerEncoderCells\n",
        "        - dropout: Dropout ratio for the output of the multi-head attention and feedforward\n",
        "          modules.\n",
        "        \"\"\"\n",
        "        super(TransformerEncoder, self).__init__()\n",
        "        self.encoder_stack = torch.nn.ModuleList([TransformerEncoderCell(input_dim, num_heads, ff_dim, dropout) for i in range(num_cells)])\n",
        "        self.norm = torch.nn.LayerNorm(input_dim)\n",
        "\n",
        "    def forward(self, x: torch.Tensor, mask: torch.Tensor=None):\n",
        "        \"\"\"\n",
        "        Inputs:\n",
        "        - x: Tensor of the shape BxLxC, where B is the batch size, L is the sequence length,\n",
        "          and C is the channel dimension\n",
        "        - mask: Tensor for masking in the multi-head attention\n",
        "\n",
        "        Return:\n",
        "        - y: Tensor of the shape of BxLxC, which is the normalized output of the encoder\n",
        "        \"\"\"\n",
        "\n",
        "        y = None\n",
        "        for encoder in self.encoder_stack:\n",
        "            x = encoder(x, mask)\n",
        "        return x\n"
      ]
    },
    {
      "cell_type": "code",
      "execution_count": null,
      "metadata": {
        "id": "vQp7GgF8pO-H"
      },
      "outputs": [],
      "source": [
        "import numpy as np\n",
        "from torch import nn\n",
        "class PositionalEncoding(nn.Module):\n",
        "    \"\"\"\n",
        "    A module that adds positional encoding to each of the token's features.\n",
        "    So that the Transformer is position aware.\n",
        "    \"\"\"\n",
        "    def __init__(self, input_dim: int, max_len: int=10000):\n",
        "        \"\"\"\n",
        "        Inputs:\n",
        "        - input_dim: Input dimension about the features for each token\n",
        "        - max_len: The maximum sequence length\n",
        "        \"\"\"\n",
        "        super(PositionalEncoding, self).__init__()\n",
        "\n",
        "        self.input_dim = input_dim\n",
        "\n",
        "    def forward(self, x, max_length=10000):\n",
        "        \"\"\"\n",
        "        Compute the positional encoding and add it to x.\n",
        "\n",
        "        Input:\n",
        "        - x: Tensor of the shape BxLxC, where B is the batch size, L is the sequence length,\n",
        "          and C is the channel dimension\n",
        "        - max_length: maximum sequence length the positional encoding can handle\n",
        "\n",
        "        Return:\n",
        "        - x: Tensor of the shape BxLxC, with the positional encoding added to the input\n",
        "        \"\"\"\n",
        "        seq_len = x.shape[1]\n",
        "        input_dim = x.shape[2]\n",
        "\n",
        "        pe = torch.zeros_like(x)\n",
        "        for position_index in range(seq_len):\n",
        "            for dimension_index in range(input_dim//2):\n",
        "                pe[:,position_index, 2*dimension_index] = np.sin(position_index/np.power(max_length, 2*dimension_index/input_dim))\n",
        "                pe[:,position_index, 2*dimension_index+1] = np.cos(position_index/np.power(max_length, 2*dimension_index/input_dim))\n",
        "        x = x + pe.to(x.device)\n",
        "        return x"
      ],
      "id": "vQp7GgF8pO-H"
    },
    {
      "cell_type": "code",
      "execution_count": null,
      "metadata": {
        "id": "nNO57K2_pO-H"
      },
      "outputs": [],
      "source": [
        "# Sanity check\n",
        "import torch\n",
        "x = torch.randn(1, 100, 20)\n",
        "pe = PositionalEncoding(20)\n",
        "y = pe(x)\n",
        "assert len(x.shape) == len(y.shape)\n",
        "for dim_x, dim_y in zip(x.shape, y.shape):\n",
        "    assert dim_x == dim_y"
      ],
      "id": "nNO57K2_pO-H"
    },
    {
      "cell_type": "code",
      "execution_count": null,
      "metadata": {
        "colab": {
          "base_uri": "https://localhost:8080/"
        },
        "id": "UNXa9j7BpO-H",
        "outputId": "31528fce-8cab-4608-e168-db0eca07ed46"
      },
      "outputs": [
        {
          "output_type": "execute_result",
          "data": {
            "text/plain": [
              "<matplotlib.legend.Legend at 0x7c6d203b2250>"
            ]
          },
          "metadata": {},
          "execution_count": 13
        },
        {
          "output_type": "display_data",
          "data": {
            "text/plain": [
              "<Figure size 1500x500 with 1 Axes>"
            ],
            "image/png": "[encoded data removed]"
          },
          "metadata": {}
        }
      ],
      "source": [
        "%matplotlib inline\n",
        "import matplotlib.pyplot as plt\n",
        "import numpy as np\n",
        "\n",
        "plt.figure(figsize=(15, 5))\n",
        "pe = PositionalEncoding(20, 0)\n",
        "y = pe.forward((torch.zeros(1, 100, 20)))\n",
        "plt.plot(np.arange(100), y[0, :, 4:8].data.numpy())\n",
        "plt.legend([\"dim %d\"%p for p in [4,5,6,7]])"
      ],
      "id": "UNXa9j7BpO-H"
    },
    {
      "cell_type": "code",
      "execution_count": null,
      "id": "_WX-aT8vupLp",
      "metadata": {
        "id": "_WX-aT8vupLp"
      },
      "outputs": [],
      "source": [
        "class TransformerClassifier(nn.Module):\n",
        "    \"\"\"\n",
        "    A Transformer-based text classifier.\n",
        "    \"\"\"\n",
        "    def __init__(self,\n",
        "            input_dim: int, seq_len:int, embed_dim: int, num_heads: int, trx_ff_dim: int,\n",
        "            num_trx_cells: int, num_class: int, dropout: float=0.1, pad_token: int=0\n",
        "        ):\n",
        "        \"\"\"\n",
        "        Inputs:\n",
        "        - vocab_size: Vocabulary size, indicating how many tokens we have in total.\n",
        "        - embed_dim: The dimension of word embeddings\n",
        "        - num_heads: Number of attention heads in a multi-head attention module\n",
        "        - trx_ff_dim: The hidden dimension for a feedforward network\n",
        "        - num_trx_cells: Number of TransformerEncoderCells\n",
        "        - dropout: Dropout ratio\n",
        "        - pad_token: The index of the padding token.\n",
        "        \"\"\"\n",
        "        super(TransformerClassifier, self).__init__()\n",
        "        self.class_token = torch.nn.Parameter(torch.randn(1, 1, embed_dim))\n",
        "        self.visual_embedding = torch.nn.Linear(input_dim, embed_dim)\n",
        "        self.positional_encoding = PositionalEncoding(embed_dim)\n",
        "        self.trx_encoder = TransformerEncoder(embed_dim, num_heads, trx_ff_dim, num_trx_cells, dropout)\n",
        "        self.classifier = torch.nn.Linear(embed_dim, num_class)\n",
        "    def forward(self, patches, mask=None):\n",
        "        \"\"\"\n",
        "        Inputs:\n",
        "        - text: Tensor with the shape of BxL, containing the indexes of each word in\n",
        "          the vocabulary, which will be converted into word embeddings with the shape\n",
        "          of BxLxC\n",
        "        - mask: Tensor for masking in the multi-head attention\n",
        "\n",
        "        Return:\n",
        "        - logits: Tensor with the shape of BxK, where K is the number of classes\n",
        "        \"\"\"\n",
        "\n",
        "        embedded = self.visual_embedding(patches)\n",
        "        embedded = torch.cat([self.class_token.expand(embedded.shape[0],-1,-1), embedded],dim=1)\n",
        "        x = self.positional_encoding(embedded)\n",
        "        x = self.trx_encoder(x, mask)\n",
        "        x = x[:,0,:]\n",
        "        logits = self.classifier(x)\n",
        "        return logits"
      ]
    },
    {
      "cell_type": "markdown",
      "id": "96pUMjg6vetN",
      "metadata": {
        "id": "96pUMjg6vetN"
      },
      "source": [
        "### Visual Tokens"
      ]
    },
    {
      "cell_type": "code",
      "execution_count": null,
      "id": "DYGZr3kv1Jbp",
      "metadata": {
        "colab": {
          "base_uri": "https://localhost:8080/"
        },
        "id": "DYGZr3kv1Jbp",
        "outputId": "99ed084a-df48-4781-9e3d-2a270606005f"
      },
      "outputs": [
        {
          "output_type": "stream",
          "name": "stdout",
          "text": [
            "(5, 64, 48)\n"
          ]
        }
      ],
      "source": [
        "def create_patches(images, total_num_patches):\n",
        "    num_patches = int(np.sqrt(total_num_patches))\n",
        "    patch_size = images.shape[-1]//num_patches\n",
        "    patches = []\n",
        "    for j in range(1, num_patches+1):\n",
        "        height_start_idx = (j-1)*patch_size\n",
        "        height_end_idx = j*patch_size\n",
        "        for i in range(1,num_patches+1):\n",
        "            width_start_idx = (i-1)*patch_size\n",
        "            width_end_idx = i*patch_size\n",
        "            patch = images[:,:,height_start_idx:height_end_idx,width_start_idx:width_end_idx]\n",
        "            patch = patch.reshape(patch.shape[0],-1)\n",
        "            patches.append(patch)\n",
        "    patches = np.array(patches)\n",
        "    patches = patches.transpose(1,0,-1)\n",
        "    return patches\n",
        "patches = create_patches(data['X_test'][0:5], total_num_patches=64)\n",
        "print(patches.shape)"
      ]
    },
    {
      "cell_type": "code",
      "source": [
        "from PIL import Image\n",
        "print(data['y_test'][0],'Cat')\n",
        "img = Image.fromarray(data['X_test'][0].transpose(1,2,0).astype(np.uint8))\n",
        "plt.figure(figsize=(2,2))\n",
        "plt.imshow(img)\n",
        "plt.axis('off')"
      ],
      "metadata": {
        "colab": {
          "base_uri": "https://localhost:8080/"
        },
        "id": "6zwVQlWBAsFu",
        "outputId": "fe0422a6-cdbf-43dd-9937-0e282b645a71"
      },
      "id": "6zwVQlWBAsFu",
      "execution_count": null,
      "outputs": [
        {
          "output_type": "stream",
          "name": "stdout",
          "text": [
            "3 Cat\n"
          ]
        },
        {
          "output_type": "execute_result",
          "data": {
            "text/plain": [
              "(np.float64(-0.5), np.float64(31.5), np.float64(31.5), np.float64(-0.5))"
            ]
          },
          "metadata": {},
          "execution_count": 16
        },
        {
          "output_type": "display_data",
          "data": {
            "text/plain": [
              "<Figure size 200x200 with 1 Axes>"
            ],
            "image/png": "[encoded data removed]"
          },
          "metadata": {}
        }
      ]
    },
    {
      "cell_type": "code",
      "source": [
        "img = np.array(img).transpose(2,0,1).reshape(1,3,32,32)\n",
        "patches = create_patches(img, total_num_patches=64)[0,:,:].reshape(64,3,4,4)\n",
        "fig, ax = plt.subplots(nrows=8, ncols=8,figsize=(4,4))\n",
        "count=0\n",
        "for i in range(8):\n",
        "    for j in range(8):\n",
        "        ax[i,j].imshow(patches[count,:,:,:].transpose(1,2,0))\n",
        "        ax[i,j].axis('off')\n",
        "        count+=1\n",
        "\n",
        "plt.tight_layout()\n",
        "plt.show()"
      ],
      "metadata": {
        "colab": {
          "base_uri": "https://localhost:8080/"
        },
        "id": "TN66-E19PET7",
        "outputId": "e040001f-5ee2-47e6-f633-64973501cada"
      },
      "id": "TN66-E19PET7",
      "execution_count": null,
      "outputs": [
        {
          "output_type": "display_data",
          "data": {
            "text/plain": [
              "<Figure size 400x400 with 64 Axes>"
            ],
            "image/png": "[encoded data removed]"
          },
          "metadata": {}
        }
      ]
    },
    {
      "cell_type": "markdown",
      "metadata": {
        "id": "dsOyf8fZMNSg"
      },
      "source": [
        "### Train Loop"
      ],
      "id": "dsOyf8fZMNSg"
    },
    {
      "cell_type": "code",
      "execution_count": null,
      "id": "SILUG9AvTl7e",
      "metadata": {
        "id": "SILUG9AvTl7e"
      },
      "outputs": [],
      "source": [
        "def set_up_cifar10_data_loader(images, labels, batch_size, total_num_patches=64, shuffle=True):\n",
        "    dataset = torch.utils.data.TensorDataset(torch.Tensor(create_patches(images, total_num_patches)), torch.Tensor(labels))\n",
        "    data_loader = torch.utils.data.DataLoader(dataset, batch_size=batch_size, shuffle=shuffle, num_workers=2)\n",
        "    return data_loader"
      ]
    },
    {
      "cell_type": "code",
      "execution_count": null,
      "id": "-NuN23oh6xXs",
      "metadata": {
        "id": "-NuN23oh6xXs"
      },
      "outputs": [],
      "source": [
        "def test_model(model, data_loader):\n",
        "    \"\"\"\n",
        "    Compute accuracy of the model.\n",
        "\n",
        "    Inputs:\n",
        "      - model: A CNN implemented in PyTorch\n",
        "      - data_loader: A data loader that will provide batched images and labels\n",
        "    \"\"\"\n",
        "\n",
        "    model.eval()\n",
        "\n",
        "    correct = 0\n",
        "    total = 0\n",
        "    with torch.no_grad():\n",
        "        for batch_data in data_loader:\n",
        "            images, labels = batch_data\n",
        "            images = images.cuda()\n",
        "            labels = labels.cuda()\n",
        "\n",
        "            predicted = None\n",
        "            logits = model(images)\n",
        "            predicted = torch.argmax(logits, dim=-1)\n",
        "            total += labels.size(0)\n",
        "            correct += (predicted == labels).sum().item()\n",
        "\n",
        "    acc = 100 * correct // total\n",
        "    return acc"
      ]
    },
    {
      "cell_type": "code",
      "execution_count": null,
      "id": "H3lzA5IOsvtO",
      "metadata": {
        "id": "H3lzA5IOsvtO"
      },
      "outputs": [],
      "source": [
        "def train_val_model(model, train_data_loader, val_data_loader, loss_fn, optimizer, lr_scheduler, num_epochs, grad_norm_clip, patience=5, print_freq=50):\n",
        "    \"\"\"\n",
        "    Training and validating a CNN model using PyTorch.\n",
        "\n",
        "    Inputs:\n",
        "      - model: A CNN implemented in PyTorch\n",
        "      - data_loader: A data loader that will provide batched images and labels\n",
        "      - loss_fn: A loss function (e.g., cross entropy loss)\n",
        "      - lr_scheduler: Learning rate scheduler\n",
        "      - num_epochs: Number of epochs in total\n",
        "      - print_freq: Frequency to print training statistics\n",
        "\n",
        "    Output:\n",
        "      - model: Trained CNN model\n",
        "    \"\"\"\n",
        "    best_acc = float('-inf')\n",
        "    patience_count = 0\n",
        "    for epoch_i in range(num_epochs):\n",
        "        model.train()\n",
        "\n",
        "        running_loss = 0.0\n",
        "        running_total = 0.0\n",
        "        running_correct = 0.0\n",
        "        for i, batch_data in enumerate(train_data_loader):\n",
        "            images, labels = batch_data\n",
        "            images = images.cuda()\n",
        "            labels = labels.cuda()\n",
        "\n",
        "            predicted = None\n",
        "            labels = labels.long()\n",
        "            optimizer.zero_grad()\n",
        "            logits = model(images)\n",
        "            predicted = torch.argmax(logits, dim=-1)\n",
        "            loss = loss_fn(logits, labels)\n",
        "            loss.backward()\n",
        "            torch.nn.utils.clip_grad_norm_(model.parameters(), grad_norm_clip)\n",
        "            optimizer.step()\n",
        "            running_loss += loss.item()\n",
        "            running_total += labels.size(0)\n",
        "            running_correct += (predicted == labels).sum().item()\n",
        "            if i % print_freq == 0:\n",
        "                running_loss = running_loss / print_freq\n",
        "                running_acc = running_correct / running_total * 100\n",
        "                last_lr = lr_scheduler.get_last_lr()[0]\n",
        "                print(f'Epoch {epoch_i + 1}/{num_epochs} -- | Step {i + 1:5d}/{len(train_data_loader)} | Loss: {running_loss:.3f} | Accuracy: {running_acc:.2f}% | LR: {last_lr:.5f} |')\n",
        "                mlflow.log_metric(\"train_loss\", running_loss, step=epoch_i * len(train_data_loader) + i)\n",
        "                mlflow.log_metric(\"train_accuracy\", running_acc, step=epoch_i * len(train_data_loader) + i)\n",
        "                mlflow.log_metric(\"learning_rate\", last_lr, step=epoch_i * len(train_data_loader) + i)\n",
        "                running_loss = 0.0\n",
        "                running_total = 0.0\n",
        "                running_correct = 0.0\n",
        "\n",
        "        lr_scheduler.step()\n",
        "\n",
        "        val_acc = test_model(model, val_data_loader)\n",
        "        mlflow.log_metric(\"val_accuracy\", val_acc, step=epoch_i+1)\n",
        "        if val_acc > best_acc:\n",
        "            best_acc = val_acc\n",
        "            patience_count-=1\n",
        "        else:\n",
        "            patience_count+=1\n",
        "        if patience_count>=patience:\n",
        "            print(f'Early stopping tirggered at epoch - {epoch_i+1} | Best validation accuracy {best_acc:.2f}% ')\n",
        "            mlflow.log_metric(\"early_stopping_epoch\", epoch_i + 1)\n",
        "            break\n",
        "        print(f'Epoch {epoch_i + 1}/{num_epochs} -- | Validation Accuracy: {val_acc:.2f}% |')\n",
        "\n",
        "    return model"
      ]
    },
    {
      "cell_type": "code",
      "source": [
        "from torch.utils.data.dataset import random_split\n",
        "\n",
        "assert torch.cuda.is_available()\n",
        "device = torch.device(\"cuda\" if torch.cuda.is_available() else \"cpu\")\n",
        "print(device)\n",
        "\n",
        "run_id = 1\n",
        "epochs = 142\n",
        "num_class = 10\n",
        "lr = 3e-4\n",
        "weight_decay = 1e-3\n",
        "batch_size = 1024\n",
        "step_size = 10\n",
        "# T_max = 100\n",
        "gamma = 0.9\n",
        "momentum = 0.9\n",
        "seq_len = total_num_patches = 64\n",
        "num_patches = int(np.sqrt(total_num_patches))\n",
        "channels = 3\n",
        "spatial_dim = 32\n",
        "input_dim = channels*(spatial_dim//num_patches)*(spatial_dim//num_patches)\n",
        "embed_dim = 296\n",
        "ff_dim = embed_dim*4\n",
        "num_heads = 8\n",
        "num_trx_cells = 8\n",
        "\n",
        "gradient_norm_clip = 10.0\n",
        "\n",
        "dropout = 0.1\n",
        "\n",
        "model = TransformerClassifier(input_dim, seq_len, embed_dim, num_heads, ff_dim, num_trx_cells, num_class, dropout)\n",
        "\n",
        "loss_func = torch.nn.CrossEntropyLoss()\n",
        "optimizer = torch.optim.AdamW(model.parameters(), lr=lr, weight_decay=weight_decay)\n",
        "# scheduler = torch.optim.lr_scheduler.StepLR(optimizer, step_size, gamma)\n",
        "scheduler = torch.optim.lr_scheduler.CosineAnnealingLR(optimizer, T_max=epochs)\n",
        "model = model.cuda()\n",
        "num_params = sum(p.numel() for p in model.parameters())\n",
        "print('Number of parameters: {:.3f}M'.format(num_params / 1000000))\n",
        "\n",
        "train_loader = set_up_cifar10_data_loader(data['X_train'], data['y_train'], batch_size, total_num_patches, shuffle=True)\n",
        "print(\"There are {} batches in the training set.\".format(len(train_loader)))\n",
        "\n",
        "val_loader = set_up_cifar10_data_loader(data['X_val'], data['y_val'], batch_size, total_num_patches, shuffle=False)\n",
        "print(\"There are {} batches in the validation set.\".format(len(val_loader)))\n",
        "\n",
        "test_loader = set_up_cifar10_data_loader(data['X_test'], data['y_test'], batch_size, total_num_patches, shuffle=False)\n",
        "print(\"There are {} batches in the testing set.\".format(len(test_loader)))\n",
        "\n",
        "print('-'*100)\n",
        "with mlflow.start_run():\n",
        "    mlflow.log_param(\"device\", str(device))\n",
        "    mlflow.log_param(\"epochs\", epochs)\n",
        "    mlflow.log_param(\"num_class\", num_class)\n",
        "    mlflow.log_param(\"learning_rate\", lr)\n",
        "    mlflow.log_param(\"weight_decay\", weight_decay)\n",
        "    mlflow.log_param(\"batch_size\", batch_size)\n",
        "    mlflow.log_param(\"step_size\", step_size)\n",
        "    mlflow.log_param(\"gamma\", gamma)\n",
        "    mlflow.log_param(\"momentum\", momentum)\n",
        "    mlflow.log_param(\"seq_len\", seq_len)\n",
        "    mlflow.log_param(\"num_patches\", num_patches)\n",
        "    mlflow.log_param(\"channels\", channels)\n",
        "    mlflow.log_param(\"spatial_dim\", spatial_dim)\n",
        "    mlflow.log_param(\"input_dim\", input_dim)\n",
        "    mlflow.log_param(\"embed_dim\", embed_dim)\n",
        "    mlflow.log_param(\"ff_dim\", ff_dim)\n",
        "    mlflow.log_param(\"num_heads\", num_heads)\n",
        "    mlflow.log_param(\"num_trx_cells\", num_trx_cells)\n",
        "    mlflow.log_param(\"gradient_norm_clip\", gradient_norm_clip)\n",
        "    mlflow.log_param(\"dropout\", dropout)\n",
        "    mlflow.log_param(\"optimizer\", optimizer.__class__.__name__)\n",
        "    mlflow.log_param(\"scheduler\", scheduler.__class__.__name__)\n",
        "    mlflow.log_param(\"num_parameters\", num_params)\n",
        "    mlflow.log_param(\"train_batches\", len(train_loader))\n",
        "    mlflow.log_param(\"val_batches\", len(val_loader))\n",
        "    mlflow.log_param(\"test_batches\", len(test_loader))\n",
        "\n",
        "    mlflow.log_param(\"model_architecture\", str(model))\n",
        "    model = train_val_model(model, train_loader, val_loader, loss_func, optimizer, scheduler, epochs, gradient_norm_clip)\n",
        "\n",
        "    test_acc = test_model(model, test_loader)\n",
        "    print(f\"| Testing accuracy: {test_acc:.3f} |\")\n",
        "    mlflow.log_metric(\"test_accuracy\", test_acc)\n",
        "    mlflow.pytorch.log_model(model, f\"Run - {run_id}\")"
      ],
      "metadata": {
        "colab": {
          "base_uri": "https://localhost:8080/"
        },
        "outputId": "4f89ac87-395a-4b78-cdf6-43d4dc35b923",
        "id": "HAUvszbal0Z4"
      },
      "execution_count": null,
      "outputs": [
        {
          "output_type": "stream",
          "name": "stdout",
          "text": [
            "cuda\n",
            "Number of parameters: 8.456M\n",
            "There are 48 batches in the training set.\n",
            "There are 1 batches in the validation set.\n",
            "There are 1 batches in the testing set.\n",
            "----------------------------------------------------------------------------------------------------\n",
            "Epoch 1/142 -- | Step     1/48 | Loss: 0.052 | Accuracy: 11.91% | LR: 0.00030 |\n",
            "Epoch 1/142 -- | Validation Accuracy: 33.00% |\n",
            "Epoch 2/142 -- | Step     1/48 | Loss: 0.039 | Accuracy: 29.10% | LR: 0.00030 |\n",
            "Epoch 2/142 -- | Validation Accuracy: 45.00% |\n",
            "Epoch 3/142 -- | Step     1/48 | Loss: 0.030 | Accuracy: 46.00% | LR: 0.00030 |\n",
            "Epoch 3/142 -- | Validation Accuracy: 52.00% |\n",
            "Epoch 4/142 -- | Step     1/48 | Loss: 0.027 | Accuracy: 51.07% | LR: 0.00030 |\n",
            "Epoch 4/142 -- | Validation Accuracy: 59.00% |\n",
            "Epoch 5/142 -- | Step     1/48 | Loss: 0.022 | Accuracy: 60.64% | LR: 0.00030 |\n",
            "Epoch 5/142 -- | Validation Accuracy: 60.00% |\n",
            "Epoch 6/142 -- | Step     1/48 | Loss: 0.021 | Accuracy: 64.16% | LR: 0.00030 |\n",
            "Epoch 6/142 -- | Validation Accuracy: 64.00% |\n",
            "Epoch 7/142 -- | Step     1/48 | Loss: 0.020 | Accuracy: 63.09% | LR: 0.00030 |\n",
            "Epoch 7/142 -- | Validation Accuracy: 63.00% |\n",
            "Epoch 8/142 -- | Step     1/48 | Loss: 0.018 | Accuracy: 68.16% | LR: 0.00030 |\n",
            "Epoch 8/142 -- | Validation Accuracy: 67.00% |\n",
            "Epoch 9/142 -- | Step     1/48 | Loss: 0.015 | Accuracy: 74.41% | LR: 0.00030 |\n",
            "Epoch 9/142 -- | Validation Accuracy: 65.00% |\n",
            "Epoch 10/142 -- | Step     1/48 | Loss: 0.015 | Accuracy: 74.71% | LR: 0.00030 |\n",
            "Epoch 10/142 -- | Validation Accuracy: 66.00% |\n",
            "Epoch 11/142 -- | Step     1/48 | Loss: 0.013 | Accuracy: 77.05% | LR: 0.00030 |\n",
            "Epoch 11/142 -- | Validation Accuracy: 67.00% |\n",
            "Epoch 12/142 -- | Step     1/48 | Loss: 0.012 | Accuracy: 79.39% | LR: 0.00030 |\n",
            "Epoch 12/142 -- | Validation Accuracy: 67.00% |\n",
            "Epoch 13/142 -- | Step     1/48 | Loss: 0.011 | Accuracy: 81.54% | LR: 0.00029 |\n",
            "Epoch 13/142 -- | Validation Accuracy: 67.00% |\n",
            "Epoch 14/142 -- | Step     1/48 | Loss: 0.010 | Accuracy: 82.62% | LR: 0.00029 |\n",
            "Epoch 14/142 -- | Validation Accuracy: 70.00% |\n",
            "Epoch 15/142 -- | Step     1/48 | Loss: 0.008 | Accuracy: 84.57% | LR: 0.00029 |\n",
            "Epoch 15/142 -- | Validation Accuracy: 69.00% |\n",
            "Epoch 16/142 -- | Step     1/48 | Loss: 0.007 | Accuracy: 87.89% | LR: 0.00029 |\n",
            "Epoch 16/142 -- | Validation Accuracy: 66.00% |\n",
            "Epoch 17/142 -- | Step     1/48 | Loss: 0.007 | Accuracy: 88.38% | LR: 0.00029 |\n",
            "Epoch 17/142 -- | Validation Accuracy: 67.00% |\n",
            "Epoch 18/142 -- | Step     1/48 | Loss: 0.007 | Accuracy: 86.82% | LR: 0.00029 |\n",
            "Epoch 18/142 -- | Validation Accuracy: 67.00% |\n",
            "Epoch 19/142 -- | Step     1/48 | Loss: 0.005 | Accuracy: 90.23% | LR: 0.00029 |\n",
            "Epoch 19/142 -- | Validation Accuracy: 68.00% |\n",
            "Epoch 20/142 -- | Step     1/48 | Loss: 0.004 | Accuracy: 93.46% | LR: 0.00029 |\n",
            "Epoch 20/142 -- | Validation Accuracy: 68.00% |\n",
            "Epoch 21/142 -- | Step     1/48 | Loss: 0.003 | Accuracy: 93.95% | LR: 0.00029 |\n",
            "Early stopping tirggered at epoch - 21 | Best validation accuracy 70.00% \n"
          ]
        }
      ],
      "id": "HAUvszbal0Z4"
    }
  ],
  "metadata": {
    "accelerator": "GPU",
    "colab": {
      "gpuType": "T4",
      "provenance": []
    },
    "kernelspec": {
      "display_name": "Python 3",
      "name": "python3"
    },
    "language_info": {
      "codemirror_mode": {
        "name": "ipython",
        "version": 3
      },
      "file_extension": ".py",
      "mimetype": "text/x-python",
      "name": "python",
      "nbconvert_exporter": "python",
      "pygments_lexer": "ipython3",
      "version": "3.6.10"
    }
  },
  "nbformat": 4,
  "nbformat_minor": 5
}